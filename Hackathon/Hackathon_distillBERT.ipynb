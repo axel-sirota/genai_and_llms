{
 "cells": [
  {
   "cell_type": "markdown",
   "metadata": {
    "colab_type": "text",
    "id": "view-in-github"
   },
   "source": [
    "<a href=\"https://colab.research.google.com/github/axel-sirota/ml_ad_ai_course/blob/main/Hackathon/Hackathon_distillBERT.ipynb\" target=\"_parent\"><img src=\"https://colab.research.google.com/assets/colab-badge.svg\" alt=\"Open In Colab\"/></a>"
   ]
  },
  {
   "cell_type": "markdown",
   "metadata": {
    "collapsed": true,
    "id": "t3zLz-gTH8zq",
    "pycharm": {
     "name": "#%% md\n"
    }
   },
   "source": [
    "# Hackathon: Finetuning DistillBERT\n",
    "\n",
    "In this notebook we will fine-tune DistillBERT, a transformer based on BERT Googles model to create a toxicity model\n",
    "\n",
    "You can run this lab both locally or in Colab.\n",
    "\n",
    "- To run in Colab just go to `https://colab.research.google.com`, sign-in and you upload this notebook. Colab has GPU access for free.\n",
    "- To run locally just run `jupyter notebook` and access the notebook in this lab. You would need to first install the requirements in `requirements.txt`\n",
    "\n",
    "You can use any architecture you want! Good luck!"
   ]
  },
  {
   "cell_type": "code",
   "execution_count": null,
   "metadata": {
    "id": "v-gOthqwH8zt",
    "pycharm": {
     "name": "#%%\n"
    }
   },
   "outputs": [],
   "source": [
    "!nvidia-smi"
   ]
  },
  {
   "cell_type": "code",
   "execution_count": null,
   "metadata": {
    "id": "XZICZFZ7H8zv",
    "pycharm": {
     "name": "#%%\n"
    }
   },
   "outputs": [],
   "source": [
    "!pip install textblob 'keras-nlp' 'keras-preprocessing' 'gensim==4.2.0' 'numpy<2' 'tensorflow-text==2.15' np_utils"
   ]
  },
  {
   "cell_type": "code",
   "metadata": {
    "id": "qBSA-JWCH8zw",
    "pycharm": {
     "name": "#%%\n"
    }
   },
   "outputs": [],
   "source": "import multiprocessing\nimport os\nimport random\nimport warnings\n\nimport nltk\nimport numpy as np\nimport tensorflow as tf\nfrom textblob import TextBlob\n\nTRACE = False\nembedding_dim = 100\nrnn_units = 128\nepochs=100\nbuffer_size = 256\nmax_len = 50\n# Batch size\nbatch_size = 256\nmin_count_words = 3\nBATCH = True\n\ndef set_seeds_and_trace():\n  os.environ['PYTHONHASHSEED'] = '0'\n  np.random.seed(42)\n  tf.random.set_seed(42)\n  random.seed(42)\n  if TRACE:\n    tf.debugging.set_log_device_placement(True)\n\ndef set_session_with_gpus_and_cores():\n  cores = multiprocessing.cpu_count()\n  gpus = len(tf.config.list_physical_devices('GPU'))\n  config = tf.compat.v1.ConfigProto( device_count = {'GPU': gpus  , 'CPU': cores} , intra_op_parallelism_threads=1, inter_op_parallelism_threads=1)\n  sess = tf.compat.v1.Session(config=config)\n  tf.compat.v1.keras.backend.set_session(sess)\n\nset_seeds_and_trace()\nset_session_with_gpus_and_cores()\nwarnings.filterwarnings('ignore')\nnltk.download('punkt')\ntextblob_tokenizer = lambda x: TextBlob(x).words"
  },
  {
   "cell_type": "code",
   "execution_count": null,
   "metadata": {
    "id": "PH1otTSmH8zx",
    "pycharm": {
     "name": "#%%\n"
    }
   },
   "outputs": [],
   "source": [
    "%%writefile get_data.sh\n",
    "if [ ! -f toxic_comments.csv ]; then\n",
    "  wget -O toxic_comments.csv https://www.dropbox.com/s/qecfi95tirln8sh/toxic_comments.csv?dl=0\n",
    "fi\n"
   ]
  },
  {
   "cell_type": "code",
   "execution_count": null,
   "metadata": {
    "id": "0mCnb3RWH8zx",
    "pycharm": {
     "name": "#%%\n"
    }
   },
   "outputs": [],
   "source": [
    "!bash get_data.sh"
   ]
  },
  {
   "cell_type": "code",
   "execution_count": null,
   "metadata": {
    "id": "SjaY-r6RH8zy",
    "pycharm": {
     "name": "#%%\n"
    }
   },
   "outputs": [],
   "source": []
  }
 ],
 "metadata": {
  "colab": {
   "include_colab_link": true,
   "provenance": []
  },
  "kernelspec": {
   "display_name": "Python 3",
   "language": "python",
   "name": "python3"
  },
  "language_info": {
   "codemirror_mode": {
    "name": "ipython",
    "version": 2
   },
   "file_extension": ".py",
   "mimetype": "text/x-python",
   "name": "python",
   "nbconvert_exporter": "python",
   "pygments_lexer": "ipython2",
   "version": "2.7.6"
  }
 },
 "nbformat": 4,
 "nbformat_minor": 0
}