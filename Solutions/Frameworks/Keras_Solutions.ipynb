{
 "cells": [
  {
   "cell_type": "markdown",
   "id": "84bd532c",
   "metadata": {
    "id": "84bd532c"
   },
   "source": [
    "\n",
    "# Keras Exercises for Basic Manipulation of Layers, Models, and Loss Functions\n",
    "\n",
    "This notebook provides a set of exercises designed to familiarize you with the basics of handling layers, models,\n",
    "and loss functions in Keras, which is essential for working with Large Language Models (LLMs).\n",
    "\n",
    "## Exercises Overview\n",
    "1. Creating and Configuring Layers\n",
    "2. Building Sequential Models\n",
    "3. Functional API for Model Building\n",
    "4. Implementing Custom Loss Functions\n",
    "5. Compiling and Training a Model\n",
    "6. Freezing Layers in a Model\n",
    "\n",
    "Each section will include a brief explanation followed by practical exercises.\n"
   ]
  },
  {
   "cell_type": "markdown",
   "id": "b2ef1f64",
   "metadata": {
    "id": "b2ef1f64"
   },
   "source": [
    "\n",
    "## 1. Creating and Configuring Layers\n",
    "\n",
    "**Objective**: Learn how to create and configure different types of layers in Keras.\n",
    "\n",
    "**Exercises**:\n",
    "1. Create a Dense layer with 10 neurons and ReLU activation.\n",
    "2. Create a Dropout layer with a dropout rate of 0.2.\n",
    "3. Configure a Conv2D layer suitable for input images of shape (28, 28, 1) with 32 filters.\n"
   ]
  },
  {
   "cell_type": "code",
   "execution_count": null,
   "id": "Bjio2ixJfggB",
   "metadata": {
    "id": "Bjio2ixJfggB"
   },
   "outputs": [],
   "source": [
    "from tensorflow.keras.layers import Dense, Dropout, Conv2D\n",
    "\n",
    "# Exercise 1: Creating and Configuring Layers\n",
    "\n",
    "# 1.1 Create a Dense layer with 10 neurons and ReLU activation.\n",
    "dense_layer = Dense(10, activation='relu')\n",
    "\n",
    "# 1.2 Create a Dropout layer with a dropout rate of 0.2.\n",
    "dropout_layer = Dropout(0.2)\n",
    "\n",
    "# 1.3 Configure a Conv2D layer suitable for input images of shape (28, 28, 1) with 32 filters.\n",
    "# Assuming the input images are 28x28 pixels with 1 color channel (grayscale)\n",
    "conv2d_layer = Conv2D(filters=32, kernel_size=(3, 3), activation='relu', input_shape=(28, 28, 1))\n"
   ]
  },
  {
   "cell_type": "markdown",
   "id": "e939c80d",
   "metadata": {
    "id": "e939c80d"
   },
   "source": [
    "\n",
    "## 2. Building Sequential Models\n",
    "\n",
    "**Objective**: Understand how to build sequential models in Keras.\n",
    "\n",
    "**Exercises**:\n",
    "1. Build a sequential model with a Dense layer followed by a Dropout layer.\n",
    "2. Add a Dense output layer suitable for a classification task with 3 classes.\n"
   ]
  },
  {
   "cell_type": "code",
   "execution_count": null,
   "id": "EpZXSLnUfrDV",
   "metadata": {
    "id": "EpZXSLnUfrDV"
   },
   "outputs": [],
   "source": [
    "import tensorflow as tf\n",
    "from tensorflow.keras.models import Sequential\n",
    "from tensorflow.keras.layers import Dense, Dropout\n",
    "\n",
    "# Exercise 2: Building Sequential Models\n",
    "\n",
    "# 2.1 Build a sequential model with a Dense layer followed by a Dropout layer.\n",
    "model = Sequential([\n",
    "    Dense(10, activation='relu'),  # Dense layer with 10 neurons and ReLU activation\n",
    "    Dropout(0.2)  # Dropout layer with a dropout rate of 0.2\n",
    "])\n",
    "\n",
    "# 2.2 Add a Dense output layer suitable for a classification task with 3 classes.\n",
    "model.add(Dense(3, activation='softmax'))  # Output layer for 3-class classification\n",
    "\n",
    "# Display the model summary\n",
    "model.summary()"
   ]
  },
  {
   "cell_type": "markdown",
   "id": "96ad844a",
   "metadata": {
    "id": "96ad844a"
   },
   "source": [
    "\n",
    "## 3. Functional API for Model Building\n",
    "\n",
    "**Objective**: Learn to use Keras' Functional API for flexible model building.\n",
    "\n",
    "**Exercises**:\n",
    "1. Build a simple model with the Functional API using at least two input layers.\n",
    "2. Create a model that merges two input branches with concatenation.\n"
   ]
  },
  {
   "cell_type": "code",
   "execution_count": null,
   "id": "kObeOy7uf0uy",
   "metadata": {
    "id": "kObeOy7uf0uy"
   },
   "outputs": [],
   "source": [
    "import tensorflow as tf\n",
    "from tensorflow.keras.layers import Input, Dense, Concatenate\n",
    "from tensorflow.keras.models import Model\n",
    "\n",
    "# Exercise 3: Functional API for Model Building\n",
    "\n",
    "# 3.1 Build a simple model with the Functional API using at least two input layers.\n",
    "# Creating two input layers\n",
    "input1 = Input(shape=(32,))\n",
    "input2 = Input(shape=(32,))\n",
    "\n",
    "# Adding layers to each input path\n",
    "x1 = Dense(16, activation='relu')(input1)\n",
    "x2 = Dense(16, activation='relu')(input2)\n",
    "\n",
    "# Merging the paths\n",
    "merged = Concatenate()([x1, x2])\n",
    "\n",
    "# Output layer\n",
    "output = Dense(1, activation='sigmoid')(merged)\n",
    "\n",
    "# Creating the model\n",
    "model_3_1 = Model(inputs=[input1, input2], outputs=output)\n",
    "\n",
    "# 3.2 Create a model that merges two input branches with concatenation.\n",
    "# Note: This step is already covered in 3.1 where two input branches are merged using Concatenate.\n",
    "\n",
    "# The model 'model_3_1' is the solution for both parts of Exercise 3."
   ]
  },
  {
   "cell_type": "markdown",
   "id": "1940ea82",
   "metadata": {
    "id": "1940ea82"
   },
   "source": [
    "\n",
    "## 4. Implementing Custom Loss Functions\n",
    "\n",
    "**Objective**: Implement and understand custom loss functions.\n",
    "\n",
    "**Exercises**:\n",
    "1. Write a custom loss function that calculates mean squared error.\n",
    "2. Implement a custom loss function that adds a regularizing term.\n"
   ]
  },
  {
   "cell_type": "code",
   "execution_count": null,
   "id": "cIKOWBC_f-UQ",
   "metadata": {
    "id": "cIKOWBC_f-UQ"
   },
   "outputs": [],
   "source": [
    "import tensorflow as tf\n",
    "from tensorflow import keras\n",
    "\n",
    "# Exercise 4: Implementing Custom Loss Functions\n",
    "\n",
    "# 4.1 Write a custom loss function that calculates mean squared error.\n",
    "def custom_mean_squared_error(y_true, y_pred):\n",
    "    return tf.reduce_mean(tf.square(y_true - y_pred))\n",
    "\n",
    "# Example usage:\n",
    "# Assuming y_true and y_pred are given as follows (just for demonstration):\n",
    "y_true = tf.constant([3.0, 4.5, 2.5, 6.0])\n",
    "y_pred = tf.constant([2.5, 4.0, 2.0, 6.0])\n",
    "\n",
    "# Calculate the custom mean squared error\n",
    "mse_loss = custom_mean_squared_error(y_true, y_pred)\n",
    "\n",
    "# 4.2 Implement a custom loss function that adds a regularizing term.\n",
    "def custom_loss_with_regularization(y_true, y_pred):\n",
    "    mse = tf.reduce_mean(tf.square(y_true - y_pred))\n",
    "    regularization_term = tf.reduce_sum(tf.square(y_pred))  # Example regularization\n",
    "    return mse + 0.01 * regularization_term  # Regularization weight can be adjusted\n",
    "\n",
    "# Example usage for custom loss with regularization\n",
    "regularized_loss = custom_loss_with_regularization(y_true, y_pred)\n"
   ]
  },
  {
   "cell_type": "markdown",
   "id": "563cad4e",
   "metadata": {
    "id": "563cad4e"
   },
   "source": [
    "\n",
    "## 5. Compiling and Training a Model\n",
    "\n",
    "**Objective**: Compile and train a Keras model.\n",
    "\n",
    "**Exercises**:\n",
    "1. Compile a model with a specified optimizer, loss function, and metric.\n",
    "2. Write a code snippet to train a model on given training data and labels.\n"
   ]
  },
  {
   "cell_type": "code",
   "execution_count": null,
   "id": "ZRwopUI4gJ6M",
   "metadata": {
    "id": "ZRwopUI4gJ6M"
   },
   "outputs": [],
   "source": [
    "import tensorflow as tf\n",
    "from tensorflow.keras.models import Sequential\n",
    "from tensorflow.keras.layers import Dense\n",
    "\n",
    "# Assuming a simple sequential model for demonstration\n",
    "model = Sequential([\n",
    "    Dense(64, activation='relu', input_shape=(784,)),\n",
    "    Dense(3, activation='softmax')\n",
    "])\n",
    "\n",
    "# Exercise 5.1: Compile the model\n",
    "# Specifying the optimizer, loss function, and metric for the compilation\n",
    "model.compile(optimizer='adam',\n",
    "              loss='sparse_categorical_crossentropy',\n",
    "              metrics=['accuracy'])\n",
    "\n",
    "# Exercise 5.2: Train the model\n",
    "# For the purpose of this example, let's assume X_train and y_train are the training data and labels\n",
    "# X_train = ... (your training data)\n",
    "# y_train = ... (your training labels)\n",
    "\n",
    "# Training the model (using dummy data and labels for illustration)\n",
    "import numpy as np\n",
    "\n",
    "# Generating dummy training data and labels\n",
    "X_train = np.random.random((1000, 784))\n",
    "y_train = np.random.randint(3, size=(1000,))\n",
    "\n",
    "# Training the model\n",
    "history = model.fit(X_train, y_train, epochs=10, batch_size=32)\n",
    "\n",
    "# Note: In real-world scenarios, replace X_train and y_train with your actual training data and labels.\n"
   ]
  },
  {
   "cell_type": "markdown",
   "id": "740da903",
   "metadata": {
    "id": "740da903"
   },
   "source": [
    "\n",
    "## 6. Freezing Layers in a Model\n",
    "\n",
    "**Objective**: Learn to freeze layers during model training.\n",
    "\n",
    "**Exercises**:\n",
    "1. Create a model and freeze a specific layer during training.\n",
    "2. Write an example of training a Keras model while keeping some layers as non-trainable.\n"
   ]
  },
  {
   "cell_type": "code",
   "execution_count": null,
   "id": "pB7GkShYgWSK",
   "metadata": {
    "id": "pB7GkShYgWSK"
   },
   "outputs": [],
   "source": [
    "import tensorflow as tf\n",
    "from tensorflow import keras\n",
    "from tensorflow.keras.layers import Dense\n",
    "from tensorflow.keras.models import Sequential\n",
    "\n",
    "# Exercise 6: Freezing Layers in a Model\n",
    "\n",
    "# 6.1 Create a model and freeze a specific layer during training.\n",
    "# Building a simple sequential model\n",
    "model = Sequential([\n",
    "    Dense(64, activation='relu', input_shape=(784,)),\n",
    "    Dense(64, activation='relu'),\n",
    "    Dense(10, activation='softmax')\n",
    "])\n",
    "\n",
    "# Freezing the first Dense layer\n",
    "model.layers[0].trainable = False\n",
    "\n",
    "# 6.2 Write an example of training a Keras model while keeping some layers as non-trainable.\n",
    "# Assuming `x_train`, `y_train` are the training data and labels\n",
    "\n",
    "# Compile the model\n",
    "model.compile(optimizer='adam', loss='sparse_categorical_crossentropy', metrics=['accuracy'])\n",
    "\n",
    "# Example training loop (replace `x_train`, `y_train` with actual data)\n",
    "model.fit(x_train, y_train, epochs=5)"
   ]
  }
 ],
 "metadata": {
  "colab": {
   "provenance": [
    {
     "file_id": "1qkMLHJoXHO2Mi7A-_g0Q2_6oF6W3cc1b",
     "timestamp": 1705798062822
    }
   ]
  },
  "kernelspec": {
   "display_name": "Python 3 (ipykernel)",
   "language": "python",
   "name": "python3"
  },
  "language_info": {
   "codemirror_mode": {
    "name": "ipython",
    "version": 3
   },
   "file_extension": ".py",
   "mimetype": "text/x-python",
   "name": "python",
   "nbconvert_exporter": "python",
   "pygments_lexer": "ipython3",
   "version": "3.10.6"
  }
 },
 "nbformat": 4,
 "nbformat_minor": 5
}
