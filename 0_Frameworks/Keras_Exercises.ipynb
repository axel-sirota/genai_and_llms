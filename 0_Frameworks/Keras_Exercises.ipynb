{
 "cells": [
  {
   "cell_type": "markdown",
   "id": "84bd532c",
   "metadata": {
    "id": "84bd532c"
   },
   "source": [
    "\n",
    "# Keras Exercises for Basic Manipulation of Layers, Models, and Loss Functions\n",
    "\n",
    "This notebook provides a set of exercises designed to familiarize you with the basics of handling layers, models,\n",
    "and loss functions in Keras, which is essential for working with Large Language Models (LLMs).\n",
    "\n",
    "## Exercises Overview\n",
    "1. Creating and Configuring Layers\n",
    "2. Building Sequential Models\n",
    "3. Compiling and Training a Model\n",
    "4. Freezing Layers in a Model\n",
    "\n",
    "Each section will include a brief explanation followed by practical exercises.\n"
   ]
  },
  {
   "cell_type": "markdown",
   "id": "b2ef1f64",
   "metadata": {
    "id": "b2ef1f64"
   },
   "source": [
    "\n",
    "## 1. Creating and Configuring Layers\n",
    "\n",
    "**Objective**: Learn how to create and configure different types of layers in Keras.\n",
    "\n",
    "**Exercises**:\n",
    "1. Create a Dense layer with 10 neurons and ReLU activation.\n",
    "2. Create a Dropout layer with a dropout rate of 0.2.\n",
    "3. Verify difference between Instance mode and function mode"
   ]
  },
  {
   "cell_type": "markdown",
   "id": "e939c80d",
   "metadata": {
    "id": "e939c80d"
   },
   "source": [
    "\n",
    "## 2. Building Sequential Models\n",
    "\n",
    "**Objective**: Understand how to build sequential models in Keras.\n",
    "\n",
    "**Exercises**:\n",
    "1. Build a sequential model with a Dense layer followed by a Dropout layer.\n",
    "2. Add a Dense output layer suitable for a classification task with 3 classes.\n"
   ]
  },
  {
   "cell_type": "markdown",
   "id": "563cad4e",
   "metadata": {
    "id": "563cad4e"
   },
   "source": [
    "\n",
    "## 3. Compiling and Training a Model\n",
    "\n",
    "**Objective**: Compile and train a Keras model.\n",
    "\n",
    "**Exercises**:\n",
    "1. Compile a model with a specified optimizer, loss function, and metric for iris dataset. (notice summary before building and after)\n",
    "2. Write a code snippet to train a model on given training data and labels.\n"
   ]
  },
  {
   "cell_type": "markdown",
   "id": "740da903",
   "metadata": {
    "id": "740da903"
   },
   "source": [
    "\n",
    "## 4. Freezing Layers in a Model\n",
    "\n",
    "**Objective**: Learn to freeze layers during model training.\n",
    "\n",
    "**Exercises**:\n",
    "1. Expand the model by adding a layer and freeze the original model.\n",
    "2. Write an example of training a Keras model while keeping some layers as non-trainable.\n"
   ]
  },
  {
   "cell_type": "markdown",
   "id": "ebc1ed41",
   "metadata": {},
   "source": []
  }
 ],
 "metadata": {
  "colab": {
   "provenance": []
  },
  "language_info": {
   "name": "python"
  }
 },
 "nbformat": 4,
 "nbformat_minor": 5
}
