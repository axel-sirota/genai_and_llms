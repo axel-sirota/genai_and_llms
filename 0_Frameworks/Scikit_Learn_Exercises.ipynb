{
 "cells": [
  {
   "cell_type": "markdown",
   "id": "b508698a",
   "metadata": {},
   "source": [
    "\n",
    "# Scikit-Learn Exercises for Basic Data and Model Manipulation\n",
    "\n",
    "This notebook provides a set of exercises designed to familiarize you with the basics of handling datasets, models, \n",
    "train-test splits, and cross-validation in scikit-learn, essential for machine learning tasks.\n",
    "\n",
    "## Exercises Overview\n",
    "1. Loading and Exploring Datasets\n",
    "2. Preprocessing Data\n",
    "3. Creating and Evaluating Models\n",
    "\n",
    "Each section will include a brief explanation followed by practical exercises. \n"
   ]
  },
  {
   "cell_type": "markdown",
   "id": "54b966aa",
   "metadata": {},
   "source": [
    "\n",
    "## 1. Loading and Exploring Datasets\n",
    "\n",
    "**Objective**: Learn how to load datasets from scikit-learn and explore their features.\n",
    "\n",
    "**Exercises**:\n",
    "1. Load the Iris dataset and display its description.\n",
    "2. Find the number of samples and features in the dataset.\n",
    "3. Visualize the distribution of target classes.\n"
   ]
  },
  {
   "cell_type": "markdown",
   "id": "730de6e3",
   "metadata": {},
   "source": [
    "\n",
    "## 2. Preprocessing Data\n",
    "\n",
    "**Objective**: Understand basic data preprocessing techniques.\n",
    "\n",
    "**Exercises**:\n",
    "1. Standardize the features of a dataset.\n",
    "2. Perform a principal component analysis (PCA) to reduce the dataset to two dimensions. (optional)\n"
   ]
  },
  {
   "cell_type": "markdown",
   "id": "53589296",
   "metadata": {},
   "source": [
    "\n",
    "## 3. Creating and Evaluating Models\n",
    "\n",
    "**Objective**: Learn to create models and evaluate their performance.\n",
    "\n",
    "**Exercises**:\n",
    "1. Create a logistic regression model and fit it to iris dataset.\n",
    "2. Evaluate the model's accuracy using a test set.\n"
   ]
  }
 ],
 "metadata": {
  "language_info": {
   "name": "python"
  }
 },
 "nbformat": 4,
 "nbformat_minor": 5
}
